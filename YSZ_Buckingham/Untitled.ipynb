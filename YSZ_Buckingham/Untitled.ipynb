{
 "cells": [
  {
   "cell_type": "code",
   "execution_count": 1,
   "id": "0ad69b0b-c2f2-42d4-8202-3739983b199f",
   "metadata": {
    "tags": []
   },
   "outputs": [
    {
     "name": "stdout",
     "output_type": "stream",
     "text": [
      "env: ASE_LAMMPSRUN_COMMAND=mpirun -n 4 ~/lammps-stable_29Sep2021_update1/build/lmp\n"
     ]
    }
   ],
   "source": [
    "%load_ext autoreload\n",
    "%autoreload \n",
    "\n",
    "import numpy as np\n",
    "import matplotlib.pyplot as plt\n",
    "import math\n",
    "import os\n",
    "\n",
    "from ase.io import read,write\n",
    "from lammps import lammps\n",
    "from langevin_ExternalField import Langevin\n",
    "from ase.units import kB, fs, Pascal,mol\n",
    "#from  ase.calculators.lammpslib import LAMMPSlib\n",
    "from  lammpslib2 import LAMMPSlib\n",
    "%env ASE_LAMMPSRUN_COMMAND=mpirun -n 4 ~/lammps-stable_29Sep2021_update1/build/lmp"
   ]
  },
  {
   "cell_type": "code",
   "execution_count": 2,
   "id": "0958b304-8f92-440d-ba24-7dfb359ff1f5",
   "metadata": {
    "tags": []
   },
   "outputs": [
    {
     "name": "stdout",
     "output_type": "stream",
     "text": [
      "15.485039999999998\n"
     ]
    }
   ],
   "source": [
    "## variables for shell scripts ##\n",
    "\n",
    "# for I/O\n",
    "#INIT_data=\"INIT_data_SHELL\"\n",
    "#INIT_dataf=\"INIT_dataf_SHELL\"\n",
    "#INIT_read_index=\":\"\n",
    "\n",
    "OUT_traj=\"out.traj\"\n",
    "OUT_log=\"out.log\"\n",
    "\n",
    "OUT_traj_itv=100\n",
    "OUT_log_itv=20\n",
    "\n",
    "OUT_xyz=\"out.xyz\"\n",
    "\n",
    "# condition\n",
    "\n",
    "INIT_steps=100\n",
    "\n",
    "INIT_T=800\n",
    "INIT_P=100000*Pascal\n",
    "INIT_dt=2*fs\n",
    "\n",
    "dt = INIT_dt\n",
    "\n",
    "E_FIELD=0.1\n",
    "\n",
    "## === parameters for Langevin ====\n",
    "\n",
    "#CELL_a=15.7372\n",
    "CELL_a= 3*(5.136*(1+(INIT_T-300)*1e-5))\n",
    "print(CELL_a)\n",
    "INIT_fric=0.01\n"
   ]
  },
  {
   "cell_type": "code",
   "execution_count": 3,
   "id": "12a69815-8da9-4dac-bb0a-8142c2fb7d77",
   "metadata": {
    "tags": []
   },
   "outputs": [
    {
     "name": "stdout",
     "output_type": "stream",
     "text": [
      "[ 4.  4.  4.  3. -2. -2. -2. -2. -2. -2.]\n"
     ]
    }
   ],
   "source": [
    "IN_DATA=\"YSZ_setup01_3x3x3_0.08_NVT_E0_final_forLAMMPS.data\"\n",
    "\n",
    "pos = read(IN_DATA, format=\"lammps-data\", style=\"charge\")\n",
    "#pos = read(\"YSZ_setup01_3x3x3_0.08_NVT_E0_final_forLAMMPS.xyz\")\n",
    "#vel0= pos.get_velocities()\n",
    "#print(vel0[0:10])\n",
    "pos.symbols[[atom.index for atom in pos if (atom.symbol == 'H')]] = 'O'\n",
    "pos.symbols[[atom.index for atom in pos if (atom.symbol == 'He')]] = 'Y'\n",
    "pos.symbols[[atom.index for atom in pos if (atom.symbol == 'Li')]] = 'Zr'\n",
    "\n",
    "print(pos.get_initial_charges()[0:10])\n",
    "\n",
    "posf = pos.get_scaled_positions()\n",
    "pos.set_cell([CELL_a, CELL_a, CELL_a])\n",
    "pos.set_scaled_positions(posf)\n",
    "\n",
    "cmds = [\n",
    "    \"kspace_style\tewald 1.0e-4\",\n",
    "    \"pair_style\tbuck/coul/long 10.0\",\n",
    "    \"pair_coeff\t1 3 1502.11 0.345 5.1\",\n",
    "    \"pair_coeff\t1 2 1366.35 0.348 19.6\",\n",
    "    \"pair_coeff\t1 1 9547.96 0.224 32.0\",\n",
    "    \"pair_coeff\t3 3 0.0 1.0 0.0\",\n",
    "    \"pair_coeff\t2 2 0.0 1.0 0.0\",\n",
    "    \"pair_coeff\t2 3 0.0 1.0 0.0\",\n",
    "]\n",
    "\n",
    "header = ['units metal',\n",
    "          'atom_style charge',\n",
    "          'atom_modify map array sort 0 0']\n",
    "\n",
    "info = [\n",
    "    \"set type 3 charge 4\",\n",
    "    \"set type 2 charge 3\",\n",
    "    \"set type 1 charge -2\",\n",
    "]\n",
    "\n",
    "lammps = LAMMPSlib(lmpcmds=cmds, atom_types={'O':1, 'Y':2, 'Zr':3}, lammps_header=header, amendments=info, keep_alive=True)"
   ]
  },
  {
   "cell_type": "code",
   "execution_count": 4,
   "id": "e869b38a-0cd5-41f1-89d6-d0e395b99092",
   "metadata": {
    "tags": []
   },
   "outputs": [
    {
     "name": "stdout",
     "output_type": "stream",
     "text": [
      "NVT Simulation\n",
      "step etotal T e_pot stress\n",
      "100 -11318.984408 903.178411 -11355.875765 -744840741.51293943\r"
     ]
    }
   ],
   "source": [
    "T = INIT_T\n",
    "\n",
    "pos.set_calculator(lammps)\n",
    "efield = np.array([E_FIELD,0,0])\n",
    "#efield = np.array([0,0,0])\n",
    "\n",
    "dyn = Langevin(atoms=pos, timestep=dt, \n",
    "               temperature_K = T, efield=efield, friction=INIT_fric, trajectory = OUT_traj, loginterval=OUT_traj_itv)\n",
    "\n",
    "#dyn = NPT(pos, dt, temperature_K = T, externalstress = P, ttime = tdamp, pfactor = pdamp, trajectory = OUT_traj, loginterval=OUT_traj_itv)\n",
    "#dyn.set_mask([[1,0,0],[0,1,0],[0,0,1]])\n",
    "#Header= \"step etotal T e_pot stress volume density\"\n",
    "\n",
    "Header= \"step etotal T e_pot stress\"\n",
    "print(\"NVT Simulation\")\n",
    "print(Header)\n",
    "\n",
    "weight = np.sum(pos.get_masses())*1.673e-27\n",
    "\n",
    "file = open(OUT_log, \"w\")\n",
    "file.write(Header + \"\\n\")\n",
    "def print_dyn():\n",
    "    #V = pos.get_volume()*1E-30 # in m^3\n",
    "    #density = weight/V\n",
    "    line = f\"{dyn.get_number_of_steps(): >3} {pos.get_total_energy():.6f} {pos.get_temperature():.6f} {pos.get_potential_energy():.6f} {-pos.get_stress(include_ideal_gas=True)[0:3].sum()/(3.0*Pascal):.6f}\"\n",
    "    #line = f\"{dyn.get_number_of_steps(): >3} {pos.get_total_energy():.6f} {pos.get_temperature():.6f} {pos.get_potential_energy():.6f} {-pos.get_stress(include_ideal_gas=True)[0:3].sum()/(3.0*Pascal):.6f} {V:8.6e} {density:8.6e}\"\n",
    "\n",
    "    file.write(line+\"\\n\")\n",
    "    print(line, end = \"\\r\")\n",
    "    \n",
    "    \n",
    "dyn.attach(print_dyn, interval=20)\n",
    "\n",
    "steps = INIT_steps\n",
    "dyn.run(steps)\n",
    "    \n",
    "file.close()"
   ]
  },
  {
   "cell_type": "code",
   "execution_count": null,
   "id": "f0d6c5a4-a7b8-4fea-ac6b-bc50bef0dfc6",
   "metadata": {},
   "outputs": [],
   "source": []
  }
 ],
 "metadata": {
  "kernelspec": {
   "display_name": "Python 3.7",
   "language": "python",
   "name": "python37"
  },
  "language_info": {
   "codemirror_mode": {
    "name": "ipython",
    "version": 3
   },
   "file_extension": ".py",
   "mimetype": "text/x-python",
   "name": "python",
   "nbconvert_exporter": "python",
   "pygments_lexer": "ipython3",
   "version": "3.7.13"
  }
 },
 "nbformat": 4,
 "nbformat_minor": 5
}
