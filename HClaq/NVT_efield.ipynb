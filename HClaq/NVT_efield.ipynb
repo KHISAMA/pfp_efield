{
 "cells": [
  {
   "cell_type": "code",
   "execution_count": 1,
   "id": "3c532e01-29ca-47ae-aaa7-e6df2538f9fc",
   "metadata": {},
   "outputs": [
    {
     "name": "stdout",
     "output_type": "stream",
     "text": [
      "pfp_api_client: 1.4.0\n",
      "Estimator model version: v3.0.0\n",
      "available versions:  ['latest', 'v0.0.0', 'v1.0.0', 'v1.1.0', 'v2.0.0', 'v3.0.0']\n"
     ]
    }
   ],
   "source": [
    "%load_ext autoreload\n",
    "%autoreload 2\n",
    "import ase\n",
    "from ase.visualize import view\n",
    "from ase.build import molecule\n",
    "from ase.io import Trajectory, write, read\n",
    "from ase.units import mol # Avogadro Constant\n",
    "# calculator\n",
    "import pfp_api_client\n",
    "from pfp_api_client.pfp.calculators.ase_calculator import ASECalculator\n",
    "from pfp_api_client.pfp.estimator import Estimator, EstimatorCalcMode\n",
    "# Molecular Dynamics\n",
    "from ase.md.velocitydistribution import MaxwellBoltzmannDistribution, Stationary\n",
    "import flare\n",
    "from flare.ase.nosehoover import NoseHoover\n",
    "from ase.units import kB, fs, Pascal\n",
    "\n",
    "import numpy as np\n",
    "\n",
    "def vis(atoms):\n",
    "    v = view(atoms, viewer='ngl')\n",
    "    v.view.add_representation(\"ball+stick\")\n",
    "    display(v)\n",
    "\n",
    "#estimator = Estimator(calc_mode='CRYSTAL_PLUS_D3')\n",
    "estimator = Estimator(calc_mode=EstimatorCalcMode.CRYSTAL_PLUS_D3)\n",
    "calculator = ASECalculator(estimator)\n",
    "\n",
    "from ase.constraints import FixAtoms\n",
    "\n",
    "print(f\"pfp_api_client: {pfp_api_client.__version__}\")\n",
    "print(f\"Estimator model version: {estimator.model_version}\")\n",
    "print(\"available versions: \", estimator.available_models)"
   ]
  },
  {
   "cell_type": "code",
   "execution_count": 2,
   "id": "e04453c3-f25a-49fc-8c68-68c86faef371",
   "metadata": {},
   "outputs": [
    {
     "name": "stdout",
     "output_type": "stream",
     "text": [
      "H2O_HCl_NVT_0.1ns_final.traj\n"
     ]
    }
   ],
   "source": [
    "# for I/O\n",
    "\n",
    "E_FIELD=0.3\n",
    "INIT_dataf=\"H2O_HCl_NVT_0.1ns_final.traj\"\n",
    "INIT_read_index=\":\"\n",
    "\n",
    "OUT_traj=\"H2O_HCl_E\"+ str(E_FIELD) + \"_0.2ns.traj\"\n",
    "OUT_log=\"H2O_HCl_E\"+ str(E_FIELD) + \"_0.2ns.log\"\n",
    "OUT_xyz=\"H2O_HCl_E\"+ str(E_FIELD) + \"_0.2ns_charge.xyz\"\n",
    "\n",
    "OUT_traj_itv=100\n",
    "OUT_log_itv=50\n",
    "\n",
    "##\n",
    "\n",
    "data_path = INIT_dataf\n",
    "print(data_path)\n",
    "initial_structure = read(data_path)\n"
   ]
  },
  {
   "cell_type": "code",
   "execution_count": 3,
   "id": "6539a06a-a552-4d39-88dd-298bb0f4aae4",
   "metadata": {},
   "outputs": [
    {
     "name": "stdout",
     "output_type": "stream",
     "text": [
      "NVT Simulation\n",
      "step etotal T e_pot stress\n",
      "100 -2250.342388 304.544586 -2275.693718 510559830.3618294\r"
     ]
    }
   ],
   "source": [
    "from langevin_ExternalField import Langevin\n",
    "\n",
    "pos = initial_structure\n",
    "\n",
    "T = 300.0\n",
    "#P = 100000*Pascal\n",
    "dt = 0.25*fs\n",
    "\n",
    "pos.set_calculator(calculator)\n",
    "efield = np.array([0,E_FIELD,0])\n",
    "dyn = Langevin(atoms=pos, timestep=dt, \n",
    "               temperature_K = T, friction=0.01, efield=efield, trajectory = OUT_traj, loginterval=OUT_traj_itv)\n",
    "\n",
    "#dyn = NPT(pos, dt, temperature_K = T, externalstress = P, ttime = tdamp, pfactor = pdamp, trajectory = OUT_traj, loginterval=100)\n",
    "\n",
    "Header= \"step etotal T e_pot stress\"\n",
    "print(\"NVT Simulation\")\n",
    "print(Header)\n",
    "\n",
    "weight = np.sum(pos.get_masses())*1.673e-27\n",
    "\n",
    "file = open(OUT_log, \"w\")\n",
    "file.write(Header + \"\\n\")\n",
    "def print_dyn():\n",
    "    line = f\"{dyn.get_number_of_steps(): >3} {pos.get_total_energy():.6f} {pos.get_temperature():.6f} {pos.get_potential_energy():.6f} {-pos.get_stress(include_ideal_gas=True)[0:3].sum()/(3.0*Pascal):.6f}\"    \n",
    "    file.write(line+\"\\n\")\n",
    "    print(line, end = \"\\r\")\n",
    "    \n",
    "    \n",
    "dyn.attach(print_dyn, interval=OUT_log_itv)\n",
    "\n",
    "#steps = 800000\n",
    "steps = 100\n",
    "dyn.run(steps)\n",
    "\n",
    "\n",
    "file.close()"
   ]
  },
  {
   "cell_type": "code",
   "execution_count": 4,
   "id": "44e366c1-5681-45be-93c3-cffd8a4258ed",
   "metadata": {},
   "outputs": [],
   "source": [
    "a = read(OUT_traj, index=':')\n",
    "\n",
    "def savexyz(traj, filename='pos.xyz'):\n",
    "    index = 0\n",
    "    for atoms in traj:\n",
    "        atoms.wrap()\n",
    "        atoms.set_calculator(calculator)\n",
    "        aa=atoms.get_charges()\n",
    "        #aa = aa.reshape([-1])\n",
    "        #print(aa)\n",
    "        #atoms.set_initial_charges( aa )\n",
    "        write(filename, atoms, append = True)\n",
    "        index = index + 1\n",
    "\n",
    "        \n",
    "savexyz(traj=a, filename=OUT_xyz)\n",
    "#vis(a)"
   ]
  },
  {
   "cell_type": "code",
   "execution_count": null,
   "id": "b52129a1-56db-4747-8a00-3e2b1c1cec50",
   "metadata": {},
   "outputs": [],
   "source": []
  }
 ],
 "metadata": {
  "kernelspec": {
   "display_name": "Python 3.7",
   "language": "python",
   "name": "python37"
  },
  "language_info": {
   "codemirror_mode": {
    "name": "ipython",
    "version": 3
   },
   "file_extension": ".py",
   "mimetype": "text/x-python",
   "name": "python",
   "nbconvert_exporter": "python",
   "pygments_lexer": "ipython3",
   "version": "3.7.13"
  }
 },
 "nbformat": 4,
 "nbformat_minor": 5
}
